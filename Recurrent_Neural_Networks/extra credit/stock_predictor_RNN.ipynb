{
 "metadata": {
  "language_info": {
   "codemirror_mode": {
    "name": "ipython",
    "version": 3
   },
   "file_extension": ".py",
   "mimetype": "text/x-python",
   "name": "python",
   "nbconvert_exporter": "python",
   "pygments_lexer": "ipython3",
   "version": "3.8.6-final"
  },
  "orig_nbformat": 2,
  "kernelspec": {
   "name": "Python 3.8.6 64-bit ('deepLearning')",
   "display_name": "Python 3.8.6 64-bit ('deepLearning')",
   "metadata": {
    "interpreter": {
     "hash": "fabda35dea35b80cd6431b98e91ddb3db65b956456306a434410485951fd57f1"
    }
   }
  }
 },
 "nbformat": 4,
 "nbformat_minor": 2,
 "cells": [
  {
   "source": [
    "importing libraries"
   ],
   "cell_type": "markdown",
   "metadata": {}
  },
  {
   "cell_type": "code",
   "execution_count": 53,
   "metadata": {},
   "outputs": [],
   "source": [
    "import sys, os\n",
    "import numpy as np\n",
    "import pandas as pd\n",
    "import matplotlib.pyplot as plt"
   ]
  },
  {
   "source": [
    "importing stock prices for the time period December 2015 to November 2020"
   ],
   "cell_type": "markdown",
   "metadata": {}
  },
  {
   "cell_type": "code",
   "execution_count": 54,
   "metadata": {},
   "outputs": [],
   "source": [
    "#apple_full = pd.read_csv('AAPL.csv')\n",
    "amd_full = pd.read_csv('AMD.csv')\n",
    "#intel_full = pd.read_csv('INTC.csv')\n",
    "#microsoft_full = pd.read_csv('MSFT.csv')\n",
    "#nvidia_full = pd.read_csv('NVDA.csv')"
   ]
  },
  {
   "cell_type": "code",
   "execution_count": 62,
   "metadata": {},
   "outputs": [],
   "source": [
    "# data we want to predict\n",
    "subject_data = amd_full\n",
    "\n",
    "# number of days we will be predicting\n",
    "#TIP: 20 = a financial month\n",
    "guess_period = 60\n",
    "\n",
    "# number of days we will be training the RNN on\n",
    "#TIP: 20 = a financial month\n",
    "#TIP2: the maximum logical value is '(subject_data.shape[0]-guess_period)'\n",
    "train_period = (subject_data.shape[0]-guess_period)\n",
    "\n",
    "# gives use the values we will be training on\n",
    "training_set = subject_data.iloc[\n",
    "    (subject_data.shape[0]-guess_period)-train_period:\n",
    "    (subject_data.shape[0]-guess_period),\n",
    "     1:2].values\n",
    "\n",
    "real_stock_price= subject_data.iloc[(dataset_train.shape[0]-guess_period):, 1:2].values"
   ]
  },
  {
   "cell_type": "code",
   "execution_count": 56,
   "metadata": {},
   "outputs": [],
   "source": [
    "from sklearn.preprocessing import MinMaxScaler\n",
    "sc = MinMaxScaler(feature_range=(0, 1))\n",
    "training_set_scaled = sc.fit_transform(training_set)"
   ]
  },
  {
   "cell_type": "code",
   "execution_count": 57,
   "metadata": {},
   "outputs": [],
   "source": [
    "n_timesteps = 10\n",
    "\n",
    "X_train = []\n",
    "y_train = []\n",
    "\n",
    "for i in range(n_timesteps, training_set_scaled.shape[0]):\n",
    "    X_train.append(training_set_scaled[i-n_timesteps:i, 0])\n",
    "    y_train.append(training_set_scaled[i, 0])\n",
    "\n",
    "X_train, y_train = np.array(X_train), np.array(y_train)"
   ]
  },
  {
   "cell_type": "code",
   "execution_count": 58,
   "metadata": {},
   "outputs": [],
   "source": [
    "X_train = np.reshape(X_train, (X_train.shape[0], X_train.shape[1], 1))"
   ]
  },
  {
   "source": [
    "building the RNN"
   ],
   "cell_type": "markdown",
   "metadata": {}
  },
  {
   "cell_type": "code",
   "execution_count": 59,
   "metadata": {},
   "outputs": [],
   "source": [
    "from keras.models import Sequential\n",
    "from keras.layers import Dense\n",
    "from keras.layers import LSTM\n",
    "from keras.layers import Dropout "
   ]
  },
  {
   "cell_type": "code",
   "execution_count": 60,
   "metadata": {},
   "outputs": [],
   "source": [
    "regressor = Sequential()\n",
    "\n",
    "n_neurons = 50\n",
    "\n",
    "regressor.add(LSTM( units = n_neurons, return_sequences= True, input_shape = (X_train.shape[1], 1)))\n",
    "regressor.add(Dropout(.2))\n",
    "\n",
    "regressor.add(LSTM( units = n_neurons, return_sequences= True))\n",
    "regressor.add(Dropout(.2))\n",
    "\n",
    "regressor.add(LSTM( units = n_neurons, return_sequences= True))\n",
    "regressor.add(Dropout(.2))\n",
    "\n",
    "regressor.add(LSTM( units = n_neurons, return_sequences= True))\n",
    "regressor.add(Dropout(.2))\n",
    "\n",
    "regressor.add(LSTM( units = n_neurons, return_sequences= False))\n",
    "regressor.add(Dropout(.2))\n",
    "\n",
    "regressor.add(Dense(units=1))\n",
    "\n",
    "regressor.compile(optimizer= 'adam', loss= 'mean_squared_error')"
   ]
  },
  {
   "cell_type": "code",
   "execution_count": 61,
   "metadata": {},
   "outputs": [
    {
     "output_type": "stream",
     "name": "stdout",
     "text": [
      "Epoch 1/5\n",
      "38/38 [==============================] - 1s 22ms/step - loss: 0.0203\n",
      "Epoch 2/5\n",
      "38/38 [==============================] - 1s 20ms/step - loss: 0.0025\n",
      "Epoch 3/5\n",
      "38/38 [==============================] - 1s 20ms/step - loss: 0.0022\n",
      "Epoch 4/5\n",
      "38/38 [==============================] - 1s 19ms/step - loss: 0.0019\n",
      "Epoch 5/5\n",
      "38/38 [==============================] - 1s 20ms/step - loss: 0.0019\n"
     ]
    },
    {
     "output_type": "execute_result",
     "data": {
      "text/plain": [
       "<tensorflow.python.keras.callbacks.History at 0x7f02a24682b0>"
      ]
     },
     "metadata": {},
     "execution_count": 61
    }
   ],
   "source": [
    "regressor.fit(X_train, y_train, epochs= 5, batch_size= 32)"
   ]
  },
  {
   "source": [
    "making preditions"
   ],
   "cell_type": "markdown",
   "metadata": {}
  },
  {
   "cell_type": "code",
   "execution_count": 65,
   "metadata": {},
   "outputs": [],
   "source": [
    "subject_data_total = subject_data['Open']\n",
    "\n",
    "lower_bound = len(subject_data_total) - len(test_set) - n_timesteps\n",
    "\n",
    "inputs = subject_data_total[lower_bound:].values\n",
    "\n",
    "inputs = inputs.reshape(-1,1)"
   ]
  },
  {
   "cell_type": "code",
   "execution_count": 66,
   "metadata": {},
   "outputs": [],
   "source": [
    "inputs = sc.transform(inputs)\n",
    "\n",
    "X_test = []\n",
    "for i in range(n_timesteps, inputs.shape[0]):\n",
    "    X_test.append(inputs[i-n_timesteps:i, 0])\n",
    "X_test = np.array(X_test)\n",
    "\n",
    "X_test = X_test.reshape( X_test.shape[0], X_test.shape[1], 1)\n",
    "\n",
    "predicted_stock_price = regressor.predict(X_test)\n",
    "\n",
    "predicted_stock_price = sc.inverse_transform(predicted_stock_price)"
   ]
  },
  {
   "cell_type": "code",
   "execution_count": null,
   "metadata": {},
   "outputs": [],
   "source": []
  }
 ]
}