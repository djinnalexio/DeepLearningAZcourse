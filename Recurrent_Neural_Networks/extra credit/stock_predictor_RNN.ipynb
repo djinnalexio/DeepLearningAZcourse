{
 "metadata": {
  "language_info": {
   "codemirror_mode": {
    "name": "ipython",
    "version": 3
   },
   "file_extension": ".py",
   "mimetype": "text/x-python",
   "name": "python",
   "nbconvert_exporter": "python",
   "pygments_lexer": "ipython3",
   "version": "3.8.6-final"
  },
  "orig_nbformat": 2,
  "kernelspec": {
   "name": "python3",
   "display_name": "Python 3.8.6 64-bit ('DLcompatible')",
   "metadata": {
    "interpreter": {
     "hash": "798bec5ff8c92510ceb6af78d2f7d8ed0f0973e36124bcb31c1cac174d417e1d"
    }
   }
  }
 },
 "nbformat": 4,
 "nbformat_minor": 2,
 "cells": [
  {
   "source": [
    "importing libraries"
   ],
   "cell_type": "markdown",
   "metadata": {}
  },
  {
   "cell_type": "code",
   "execution_count": 114,
   "metadata": {},
   "outputs": [],
   "source": [
    "import sys, os\n",
    "import numpy as np\n",
    "import pandas as pd\n",
    "import matplotlib.pyplot as plt"
   ]
  },
  {
   "source": [
    "importing stock prices for the time period December 2015 to November 2020"
   ],
   "cell_type": "markdown",
   "metadata": {}
  },
  {
   "cell_type": "code",
   "execution_count": 115,
   "metadata": {},
   "outputs": [],
   "source": [
    "#apple_full = pd.read_csv('AAPL.csv')\n",
    "#amd_full = pd.read_csv('AMD.csv')\n",
    "intel_full = pd.read_csv('INTC.csv')\n",
    "#microsoft_full = pd.read_csv('MSFT.csv')\n",
    "#nvidia_full = pd.read_csv('NVDA.csv')"
   ]
  },
  {
   "cell_type": "code",
   "execution_count": 116,
   "metadata": {},
   "outputs": [],
   "source": [
    "# data we want to predict\n",
    "subject_data = intel_full\n",
    "\n",
    "# number of days we will be predicting\n",
    "#TIP: 20 = a financial month\n",
    "guess_period = 20\n",
    "\n",
    "# number of days we will be training the RNN on\n",
    "#TIP: 20 = a financial month\n",
    "#TIP2: the maximum logical value is '(subject_data.shape[0]-guess_period)'\n",
    "train_period = (subject_data.shape[0]-guess_period)\n",
    "\n",
    "# gives use the values we will be training on\n",
    "training_set = subject_data.iloc[\n",
    "    (subject_data.shape[0]-guess_period)-train_period:\n",
    "    (subject_data.shape[0]-guess_period),\n",
    "     1:2].values\n",
    "\n",
    "real_stock_price= subject_data.iloc[(subject_data.shape[0]-guess_period):, 1:2].values"
   ]
  },
  {
   "cell_type": "code",
   "execution_count": 117,
   "metadata": {},
   "outputs": [],
   "source": [
    "from sklearn.preprocessing import MinMaxScaler\n",
    "sc = MinMaxScaler(feature_range=(0, 1))\n",
    "training_set_scaled = sc.fit_transform(training_set)"
   ]
  },
  {
   "cell_type": "code",
   "execution_count": 118,
   "metadata": {},
   "outputs": [],
   "source": [
    "n_timesteps = 30\n",
    "\n",
    "X_train = []\n",
    "y_train = []\n",
    "\n",
    "for i in range(n_timesteps, training_set_scaled.shape[0]):\n",
    "    X_train.append(training_set_scaled[i-n_timesteps:i, 0])\n",
    "    y_train.append(training_set_scaled[i, 0])\n",
    "\n",
    "X_train, y_train = np.array(X_train), np.array(y_train)"
   ]
  },
  {
   "cell_type": "code",
   "execution_count": 119,
   "metadata": {},
   "outputs": [],
   "source": [
    "X_train = np.reshape(X_train, (X_train.shape[0], X_train.shape[1], 1))"
   ]
  },
  {
   "source": [
    "building the RNN"
   ],
   "cell_type": "markdown",
   "metadata": {}
  },
  {
   "cell_type": "code",
   "execution_count": 120,
   "metadata": {},
   "outputs": [],
   "source": [
    "from keras.models import Sequential\n",
    "from keras.layers import Dense\n",
    "from keras.layers import LSTM\n",
    "from keras.layers import Dropout "
   ]
  },
  {
   "cell_type": "code",
   "execution_count": 121,
   "metadata": {},
   "outputs": [],
   "source": [
    "regressor = Sequential()\n",
    "\n",
    "n_neurons = 50\n",
    "\n",
    "regressor.add(LSTM( units = n_neurons, return_sequences= True, input_shape = (X_train.shape[1], 1)))\n",
    "regressor.add(Dropout(.2))\n",
    "\n",
    "regressor.add(LSTM( units = n_neurons, return_sequences= True))\n",
    "regressor.add(Dropout(.2))\n",
    "\n",
    "regressor.add(LSTM( units = n_neurons, return_sequences= True))\n",
    "regressor.add(Dropout(.2))\n",
    "\n",
    "regressor.add(LSTM( units = n_neurons, return_sequences= True))\n",
    "regressor.add(Dropout(.2))\n",
    "\n",
    "regressor.add(LSTM( units = n_neurons, return_sequences= False))\n",
    "regressor.add(Dropout(.2))\n",
    "\n",
    "regressor.add(Dense(units=1))\n",
    "\n",
    "regressor.compile(optimizer= 'adam', loss= 'mean_squared_error')"
   ]
  },
  {
   "cell_type": "code",
   "execution_count": 122,
   "metadata": {},
   "outputs": [
    {
     "output_type": "stream",
     "name": "stdout",
     "text": [
      "Epoch 1/120\n",
      "38/38 [==============================] - 1s 37ms/step - loss: 0.0388\n",
      "Epoch 2/120\n",
      "38/38 [==============================] - 1s 39ms/step - loss: 0.0094\n",
      "Epoch 3/120\n",
      "38/38 [==============================] - 1s 36ms/step - loss: 0.0097\n",
      "Epoch 4/120\n",
      "38/38 [==============================] - 1s 39ms/step - loss: 0.0084\n",
      "Epoch 5/120\n",
      "38/38 [==============================] - 1s 39ms/step - loss: 0.0086\n",
      "Epoch 6/120\n",
      "38/38 [==============================] - 1s 39ms/step - loss: 0.0085\n",
      "Epoch 7/120\n",
      "38/38 [==============================] - 1s 39ms/step - loss: 0.0075\n",
      "Epoch 8/120\n",
      "38/38 [==============================] - 1s 39ms/step - loss: 0.0069\n",
      "Epoch 9/120\n",
      "38/38 [==============================] - 1s 38ms/step - loss: 0.0071\n",
      "Epoch 10/120\n",
      "38/38 [==============================] - 1s 36ms/step - loss: 0.0068\n",
      "Epoch 11/120\n",
      "38/38 [==============================] - 1s 38ms/step - loss: 0.0062\n",
      "Epoch 12/120\n",
      "38/38 [==============================] - 1s 37ms/step - loss: 0.0064\n",
      "Epoch 13/120\n",
      "38/38 [==============================] - 1s 36ms/step - loss: 0.0073\n",
      "Epoch 14/120\n",
      "38/38 [==============================] - 1s 36ms/step - loss: 0.0055\n",
      "Epoch 15/120\n",
      "38/38 [==============================] - 1s 36ms/step - loss: 0.0053\n",
      "Epoch 16/120\n",
      "38/38 [==============================] - 1s 36ms/step - loss: 0.0051\n",
      "Epoch 17/120\n",
      "38/38 [==============================] - 1s 36ms/step - loss: 0.0048\n",
      "Epoch 18/120\n",
      "38/38 [==============================] - 1s 36ms/step - loss: 0.0043\n",
      "Epoch 19/120\n",
      "38/38 [==============================] - 1s 36ms/step - loss: 0.0053\n",
      "Epoch 20/120\n",
      "38/38 [==============================] - 1s 36ms/step - loss: 0.0054\n",
      "Epoch 21/120\n",
      "38/38 [==============================] - 1s 36ms/step - loss: 0.0045\n",
      "Epoch 22/120\n",
      "38/38 [==============================] - 1s 36ms/step - loss: 0.0043\n",
      "Epoch 23/120\n",
      "38/38 [==============================] - 1s 35ms/step - loss: 0.0041\n",
      "Epoch 24/120\n",
      "38/38 [==============================] - 1s 35ms/step - loss: 0.0044\n",
      "Epoch 25/120\n",
      "38/38 [==============================] - 1s 36ms/step - loss: 0.0040\n",
      "Epoch 26/120\n",
      "38/38 [==============================] - 1s 36ms/step - loss: 0.0038\n",
      "Epoch 27/120\n",
      "38/38 [==============================] - 1s 36ms/step - loss: 0.0043\n",
      "Epoch 28/120\n",
      "38/38 [==============================] - 1s 36ms/step - loss: 0.0034\n",
      "Epoch 29/120\n",
      "38/38 [==============================] - 1s 36ms/step - loss: 0.0039\n",
      "Epoch 30/120\n",
      "38/38 [==============================] - 1s 36ms/step - loss: 0.0036\n",
      "Epoch 31/120\n",
      "38/38 [==============================] - 1s 37ms/step - loss: 0.0033\n",
      "Epoch 32/120\n",
      "38/38 [==============================] - 1s 36ms/step - loss: 0.0039\n",
      "Epoch 33/120\n",
      "38/38 [==============================] - 1s 36ms/step - loss: 0.0036\n",
      "Epoch 34/120\n",
      "38/38 [==============================] - 1s 36ms/step - loss: 0.0036\n",
      "Epoch 35/120\n",
      "38/38 [==============================] - 1s 36ms/step - loss: 0.0036\n",
      "Epoch 36/120\n",
      "38/38 [==============================] - 1s 37ms/step - loss: 0.0036\n",
      "Epoch 37/120\n",
      "38/38 [==============================] - 1s 36ms/step - loss: 0.0032\n",
      "Epoch 38/120\n",
      "38/38 [==============================] - 1s 39ms/step - loss: 0.0031\n",
      "Epoch 39/120\n",
      "38/38 [==============================] - 2s 40ms/step - loss: 0.0031\n",
      "Epoch 40/120\n",
      "38/38 [==============================] - 2s 42ms/step - loss: 0.0030\n",
      "Epoch 41/120\n",
      "38/38 [==============================] - 2s 40ms/step - loss: 0.0033\n",
      "Epoch 42/120\n",
      "38/38 [==============================] - 2s 40ms/step - loss: 0.0034\n",
      "Epoch 43/120\n",
      "38/38 [==============================] - 2s 41ms/step - loss: 0.0032\n",
      "Epoch 44/120\n",
      "38/38 [==============================] - 2s 40ms/step - loss: 0.0032\n",
      "Epoch 45/120\n",
      "38/38 [==============================] - 2s 40ms/step - loss: 0.0027\n",
      "Epoch 46/120\n",
      "38/38 [==============================] - 2s 40ms/step - loss: 0.0026\n",
      "Epoch 47/120\n",
      "38/38 [==============================] - 2s 40ms/step - loss: 0.0028\n",
      "Epoch 48/120\n",
      "38/38 [==============================] - 1s 39ms/step - loss: 0.0026\n",
      "Epoch 49/120\n",
      "38/38 [==============================] - 1s 39ms/step - loss: 0.0027\n",
      "Epoch 50/120\n",
      "38/38 [==============================] - 2s 40ms/step - loss: 0.0031\n",
      "Epoch 51/120\n",
      "38/38 [==============================] - 1s 39ms/step - loss: 0.0025\n",
      "Epoch 52/120\n",
      "38/38 [==============================] - 1s 39ms/step - loss: 0.0028\n",
      "Epoch 53/120\n",
      "38/38 [==============================] - 2s 40ms/step - loss: 0.0025\n",
      "Epoch 54/120\n",
      "38/38 [==============================] - 2s 40ms/step - loss: 0.0024\n",
      "Epoch 55/120\n",
      "38/38 [==============================] - 2s 40ms/step - loss: 0.0026\n",
      "Epoch 56/120\n",
      "38/38 [==============================] - 2s 40ms/step - loss: 0.0026\n",
      "Epoch 57/120\n",
      "38/38 [==============================] - 2s 40ms/step - loss: 0.0026\n",
      "Epoch 58/120\n",
      "38/38 [==============================] - 1s 39ms/step - loss: 0.0024\n",
      "Epoch 59/120\n",
      "38/38 [==============================] - 2s 40ms/step - loss: 0.0022\n",
      "Epoch 60/120\n",
      "38/38 [==============================] - 2s 40ms/step - loss: 0.0024\n",
      "Epoch 61/120\n",
      "38/38 [==============================] - 2s 40ms/step - loss: 0.0024\n",
      "Epoch 62/120\n",
      "38/38 [==============================] - 2s 47ms/step - loss: 0.0024\n",
      "Epoch 63/120\n",
      "38/38 [==============================] - 2s 41ms/step - loss: 0.0022\n",
      "Epoch 64/120\n",
      "38/38 [==============================] - 2s 41ms/step - loss: 0.0022\n",
      "Epoch 65/120\n",
      "38/38 [==============================] - 1s 39ms/step - loss: 0.0022\n",
      "Epoch 66/120\n",
      "38/38 [==============================] - 1s 37ms/step - loss: 0.0021\n",
      "Epoch 67/120\n",
      "38/38 [==============================] - 2s 40ms/step - loss: 0.0021\n",
      "Epoch 68/120\n",
      "38/38 [==============================] - 2s 48ms/step - loss: 0.0022\n",
      "Epoch 69/120\n",
      "38/38 [==============================] - 2s 51ms/step - loss: 0.0022\n",
      "Epoch 70/120\n",
      "38/38 [==============================] - 2s 59ms/step - loss: 0.0022\n",
      "Epoch 71/120\n",
      "38/38 [==============================] - 2s 63ms/step - loss: 0.0019\n",
      "Epoch 72/120\n",
      "38/38 [==============================] - 2s 58ms/step - loss: 0.0020\n",
      "Epoch 73/120\n",
      "38/38 [==============================] - 2s 55ms/step - loss: 0.0021\n",
      "Epoch 74/120\n",
      "38/38 [==============================] - 2s 55ms/step - loss: 0.0019\n",
      "Epoch 75/120\n",
      "38/38 [==============================] - 2s 55ms/step - loss: 0.0018\n",
      "Epoch 76/120\n",
      "38/38 [==============================] - 2s 55ms/step - loss: 0.0021\n",
      "Epoch 77/120\n",
      "38/38 [==============================] - 2s 55ms/step - loss: 0.0023\n",
      "Epoch 78/120\n",
      "38/38 [==============================] - 2s 53ms/step - loss: 0.0020\n",
      "Epoch 79/120\n",
      "38/38 [==============================] - 2s 55ms/step - loss: 0.0019\n",
      "Epoch 80/120\n",
      "38/38 [==============================] - 2s 54ms/step - loss: 0.0020\n",
      "Epoch 81/120\n",
      "38/38 [==============================] - 2s 55ms/step - loss: 0.0018\n",
      "Epoch 82/120\n",
      "38/38 [==============================] - 2s 57ms/step - loss: 0.0019\n",
      "Epoch 83/120\n",
      "38/38 [==============================] - 2s 56ms/step - loss: 0.0019\n",
      "Epoch 84/120\n",
      "38/38 [==============================] - 2s 54ms/step - loss: 0.0019\n",
      "Epoch 85/120\n",
      "38/38 [==============================] - 2s 51ms/step - loss: 0.0017\n",
      "Epoch 86/120\n",
      "38/38 [==============================] - 2s 55ms/step - loss: 0.0018\n",
      "Epoch 87/120\n",
      "38/38 [==============================] - 2s 55ms/step - loss: 0.0018\n",
      "Epoch 88/120\n",
      "38/38 [==============================] - 2s 53ms/step - loss: 0.0018\n",
      "Epoch 89/120\n",
      "38/38 [==============================] - 2s 55ms/step - loss: 0.0017\n",
      "Epoch 90/120\n",
      "38/38 [==============================] - 2s 55ms/step - loss: 0.0017\n",
      "Epoch 91/120\n",
      "38/38 [==============================] - 2s 55ms/step - loss: 0.0016\n",
      "Epoch 92/120\n",
      "38/38 [==============================] - 2s 54ms/step - loss: 0.0016\n",
      "Epoch 93/120\n",
      "38/38 [==============================] - 2s 56ms/step - loss: 0.0017\n",
      "Epoch 94/120\n",
      "38/38 [==============================] - 2s 54ms/step - loss: 0.0015\n",
      "Epoch 95/120\n",
      "38/38 [==============================] - 2s 55ms/step - loss: 0.0017\n",
      "Epoch 96/120\n",
      "38/38 [==============================] - 2s 52ms/step - loss: 0.0016\n",
      "Epoch 97/120\n",
      "38/38 [==============================] - 2s 55ms/step - loss: 0.0018\n",
      "Epoch 98/120\n",
      "38/38 [==============================] - 2s 54ms/step - loss: 0.0015\n",
      "Epoch 99/120\n",
      "38/38 [==============================] - 2s 53ms/step - loss: 0.0017\n",
      "Epoch 100/120\n",
      "38/38 [==============================] - 2s 55ms/step - loss: 0.0016\n",
      "Epoch 101/120\n",
      "38/38 [==============================] - 2s 55ms/step - loss: 0.0017\n",
      "Epoch 102/120\n",
      "38/38 [==============================] - 2s 54ms/step - loss: 0.0015\n",
      "Epoch 103/120\n",
      "38/38 [==============================] - 2s 55ms/step - loss: 0.0016\n",
      "Epoch 104/120\n",
      "38/38 [==============================] - 2s 53ms/step - loss: 0.0016\n",
      "Epoch 105/120\n",
      "38/38 [==============================] - 2s 55ms/step - loss: 0.0015\n",
      "Epoch 106/120\n",
      "38/38 [==============================] - 2s 54ms/step - loss: 0.0017\n",
      "Epoch 107/120\n",
      "38/38 [==============================] - 2s 54ms/step - loss: 0.0015\n",
      "Epoch 108/120\n",
      "38/38 [==============================] - 2s 55ms/step - loss: 0.0014\n",
      "Epoch 109/120\n",
      "38/38 [==============================] - 2s 52ms/step - loss: 0.0014\n",
      "Epoch 110/120\n",
      "38/38 [==============================] - 2s 55ms/step - loss: 0.0014\n",
      "Epoch 111/120\n",
      "38/38 [==============================] - 2s 55ms/step - loss: 0.0015\n",
      "Epoch 112/120\n",
      "38/38 [==============================] - 2s 55ms/step - loss: 0.0014\n",
      "Epoch 113/120\n",
      "38/38 [==============================] - 2s 55ms/step - loss: 0.0015\n",
      "Epoch 114/120\n",
      "38/38 [==============================] - 2s 56ms/step - loss: 0.0015\n",
      "Epoch 115/120\n",
      "38/38 [==============================] - 2s 54ms/step - loss: 0.0013\n",
      "Epoch 116/120\n",
      "38/38 [==============================] - 2s 54ms/step - loss: 0.0015\n",
      "Epoch 117/120\n",
      "38/38 [==============================] - 2s 52ms/step - loss: 0.0017\n",
      "Epoch 118/120\n",
      "38/38 [==============================] - 2s 55ms/step - loss: 0.0015\n",
      "Epoch 119/120\n",
      "38/38 [==============================] - 2s 53ms/step - loss: 0.0015\n",
      "Epoch 120/120\n",
      "38/38 [==============================] - 2s 58ms/step - loss: 0.0015\n"
     ]
    },
    {
     "output_type": "execute_result",
     "data": {
      "text/plain": [
       "<tensorflow.python.keras.callbacks.History at 0x7f7f31bc34c0>"
      ]
     },
     "metadata": {},
     "execution_count": 122
    }
   ],
   "source": [
    "regressor.fit(X_train, y_train, epochs= 120, batch_size= 32)"
   ]
  },
  {
   "source": [
    "making preditions"
   ],
   "cell_type": "markdown",
   "metadata": {}
  },
  {
   "cell_type": "code",
   "execution_count": 123,
   "metadata": {},
   "outputs": [],
   "source": [
    "subject_data_total = subject_data['Open']\n",
    "\n",
    "lower_bound = len(subject_data_total) - len(real_stock_price) - n_timesteps\n",
    "\n",
    "inputs = subject_data_total[lower_bound:].values\n",
    "\n",
    "inputs = inputs.reshape(-1,1)"
   ]
  },
  {
   "cell_type": "code",
   "execution_count": 124,
   "metadata": {},
   "outputs": [
    {
     "output_type": "stream",
     "name": "stdout",
     "text": [
      "WARNING:tensorflow:5 out of the last 11 calls to <function Model.make_predict_function.<locals>.predict_function at 0x7f7f30fde4c0> triggered tf.function retracing. Tracing is expensive and the excessive number of tracings could be due to (1) creating @tf.function repeatedly in a loop, (2) passing tensors with different shapes, (3) passing Python objects instead of tensors. For (1), please define your @tf.function outside of the loop. For (2), @tf.function has experimental_relax_shapes=True option that relaxes argument shapes that can avoid unnecessary retracing. For (3), please refer to https://www.tensorflow.org/tutorials/customization/performance#python_or_tensor_args and https://www.tensorflow.org/api_docs/python/tf/function for  more details.\n"
     ]
    }
   ],
   "source": [
    "inputs = sc.transform(inputs)\n",
    "\n",
    "X_test = []\n",
    "for i in range(n_timesteps, inputs.shape[0]):\n",
    "    X_test.append(inputs[i-n_timesteps:i, 0])\n",
    "X_test = np.array(X_test)\n",
    "\n",
    "X_test = X_test.reshape( X_test.shape[0], X_test.shape[1], 1)\n",
    "\n",
    "predicted_stock_price = regressor.predict(X_test)\n",
    "\n",
    "predicted_stock_price = sc.inverse_transform(predicted_stock_price)"
   ]
  },
  {
   "cell_type": "code",
   "execution_count": 125,
   "metadata": {},
   "outputs": [
    {
     "output_type": "display_data",
     "data": {
      "text/plain": "<Figure size 432x288 with 1 Axes>",
      "image/svg+xml": "<?xml version=\"1.0\" encoding=\"utf-8\" standalone=\"no\"?>\n<!DOCTYPE svg PUBLIC \"-//W3C//DTD SVG 1.1//EN\"\n  \"http://www.w3.org/Graphics/SVG/1.1/DTD/svg11.dtd\">\n<!-- Created with matplotlib (https://matplotlib.org/) -->\n<svg height=\"277.314375pt\" version=\"1.1\" viewBox=\"0 0 392.14375 277.314375\" width=\"392.14375pt\" xmlns=\"http://www.w3.org/2000/svg\" xmlns:xlink=\"http://www.w3.org/1999/xlink\">\n <metadata>\n  <rdf:RDF xmlns:cc=\"http://creativecommons.org/ns#\" xmlns:dc=\"http://purl.org/dc/elements/1.1/\" xmlns:rdf=\"http://www.w3.org/1999/02/22-rdf-syntax-ns#\">\n   <cc:Work>\n    <dc:type rdf:resource=\"http://purl.org/dc/dcmitype/StillImage\"/>\n    <dc:date>2020-12-08T18:16:44.770755</dc:date>\n    <dc:format>image/svg+xml</dc:format>\n    <dc:creator>\n     <cc:Agent>\n      <dc:title>Matplotlib v3.3.3, https://matplotlib.org/</dc:title>\n     </cc:Agent>\n    </dc:creator>\n   </cc:Work>\n  </rdf:RDF>\n </metadata>\n <defs>\n  <style type=\"text/css\">*{stroke-linecap:butt;stroke-linejoin:round;}</style>\n </defs>\n <g id=\"figure_1\">\n  <g id=\"patch_1\">\n   <path d=\"M 0 277.314375 \nL 392.14375 277.314375 \nL 392.14375 0 \nL 0 0 \nz\n\" style=\"fill:none;\"/>\n  </g>\n  <g id=\"axes_1\">\n   <g id=\"patch_2\">\n    <path d=\"M 50.14375 239.758125 \nL 384.94375 239.758125 \nL 384.94375 22.318125 \nL 50.14375 22.318125 \nz\n\" style=\"fill:#ffffff;\"/>\n   </g>\n   <g id=\"matplotlib.axis_1\">\n    <g id=\"xtick_1\">\n     <g id=\"line2d_1\">\n      <defs>\n       <path d=\"M 0 0 \nL 0 3.5 \n\" id=\"mc053b58f4f\" style=\"stroke:#000000;stroke-width:0.8;\"/>\n      </defs>\n      <g>\n       <use style=\"stroke:#000000;stroke-width:0.8;\" x=\"65.361932\" xlink:href=\"#mc053b58f4f\" y=\"239.758125\"/>\n      </g>\n     </g>\n     <g id=\"text_1\">\n      <!-- 0.0 -->\n      <g transform=\"translate(57.410369 254.356562)scale(0.1 -0.1)\">\n       <defs>\n        <path d=\"M 31.78125 66.40625 \nQ 24.171875 66.40625 20.328125 58.90625 \nQ 16.5 51.421875 16.5 36.375 \nQ 16.5 21.390625 20.328125 13.890625 \nQ 24.171875 6.390625 31.78125 6.390625 \nQ 39.453125 6.390625 43.28125 13.890625 \nQ 47.125 21.390625 47.125 36.375 \nQ 47.125 51.421875 43.28125 58.90625 \nQ 39.453125 66.40625 31.78125 66.40625 \nz\nM 31.78125 74.21875 \nQ 44.046875 74.21875 50.515625 64.515625 \nQ 56.984375 54.828125 56.984375 36.375 \nQ 56.984375 17.96875 50.515625 8.265625 \nQ 44.046875 -1.421875 31.78125 -1.421875 \nQ 19.53125 -1.421875 13.0625 8.265625 \nQ 6.59375 17.96875 6.59375 36.375 \nQ 6.59375 54.828125 13.0625 64.515625 \nQ 19.53125 74.21875 31.78125 74.21875 \nz\n\" id=\"DejaVuSans-48\"/>\n        <path d=\"M 10.6875 12.40625 \nL 21 12.40625 \nL 21 0 \nL 10.6875 0 \nz\n\" id=\"DejaVuSans-46\"/>\n       </defs>\n       <use xlink:href=\"#DejaVuSans-48\"/>\n       <use x=\"63.623047\" xlink:href=\"#DejaVuSans-46\"/>\n       <use x=\"95.410156\" xlink:href=\"#DejaVuSans-48\"/>\n      </g>\n     </g>\n    </g>\n    <g id=\"xtick_2\">\n     <g id=\"line2d_2\">\n      <g>\n       <use style=\"stroke:#000000;stroke-width:0.8;\" x=\"105.409779\" xlink:href=\"#mc053b58f4f\" y=\"239.758125\"/>\n      </g>\n     </g>\n     <g id=\"text_2\">\n      <!-- 2.5 -->\n      <g transform=\"translate(97.458216 254.356562)scale(0.1 -0.1)\">\n       <defs>\n        <path d=\"M 19.1875 8.296875 \nL 53.609375 8.296875 \nL 53.609375 0 \nL 7.328125 0 \nL 7.328125 8.296875 \nQ 12.9375 14.109375 22.625 23.890625 \nQ 32.328125 33.6875 34.8125 36.53125 \nQ 39.546875 41.84375 41.421875 45.53125 \nQ 43.3125 49.21875 43.3125 52.78125 \nQ 43.3125 58.59375 39.234375 62.25 \nQ 35.15625 65.921875 28.609375 65.921875 \nQ 23.96875 65.921875 18.8125 64.3125 \nQ 13.671875 62.703125 7.8125 59.421875 \nL 7.8125 69.390625 \nQ 13.765625 71.78125 18.9375 73 \nQ 24.125 74.21875 28.421875 74.21875 \nQ 39.75 74.21875 46.484375 68.546875 \nQ 53.21875 62.890625 53.21875 53.421875 \nQ 53.21875 48.921875 51.53125 44.890625 \nQ 49.859375 40.875 45.40625 35.40625 \nQ 44.1875 33.984375 37.640625 27.21875 \nQ 31.109375 20.453125 19.1875 8.296875 \nz\n\" id=\"DejaVuSans-50\"/>\n        <path d=\"M 10.796875 72.90625 \nL 49.515625 72.90625 \nL 49.515625 64.59375 \nL 19.828125 64.59375 \nL 19.828125 46.734375 \nQ 21.96875 47.46875 24.109375 47.828125 \nQ 26.265625 48.1875 28.421875 48.1875 \nQ 40.625 48.1875 47.75 41.5 \nQ 54.890625 34.8125 54.890625 23.390625 \nQ 54.890625 11.625 47.5625 5.09375 \nQ 40.234375 -1.421875 26.90625 -1.421875 \nQ 22.3125 -1.421875 17.546875 -0.640625 \nQ 12.796875 0.140625 7.71875 1.703125 \nL 7.71875 11.625 \nQ 12.109375 9.234375 16.796875 8.0625 \nQ 21.484375 6.890625 26.703125 6.890625 \nQ 35.15625 6.890625 40.078125 11.328125 \nQ 45.015625 15.765625 45.015625 23.390625 \nQ 45.015625 31 40.078125 35.4375 \nQ 35.15625 39.890625 26.703125 39.890625 \nQ 22.75 39.890625 18.8125 39.015625 \nQ 14.890625 38.140625 10.796875 36.28125 \nz\n\" id=\"DejaVuSans-53\"/>\n       </defs>\n       <use xlink:href=\"#DejaVuSans-50\"/>\n       <use x=\"63.623047\" xlink:href=\"#DejaVuSans-46\"/>\n       <use x=\"95.410156\" xlink:href=\"#DejaVuSans-53\"/>\n      </g>\n     </g>\n    </g>\n    <g id=\"xtick_3\">\n     <g id=\"line2d_3\">\n      <g>\n       <use style=\"stroke:#000000;stroke-width:0.8;\" x=\"145.457626\" xlink:href=\"#mc053b58f4f\" y=\"239.758125\"/>\n      </g>\n     </g>\n     <g id=\"text_3\">\n      <!-- 5.0 -->\n      <g transform=\"translate(137.506063 254.356562)scale(0.1 -0.1)\">\n       <use xlink:href=\"#DejaVuSans-53\"/>\n       <use x=\"63.623047\" xlink:href=\"#DejaVuSans-46\"/>\n       <use x=\"95.410156\" xlink:href=\"#DejaVuSans-48\"/>\n      </g>\n     </g>\n    </g>\n    <g id=\"xtick_4\">\n     <g id=\"line2d_4\">\n      <g>\n       <use style=\"stroke:#000000;stroke-width:0.8;\" x=\"185.505472\" xlink:href=\"#mc053b58f4f\" y=\"239.758125\"/>\n      </g>\n     </g>\n     <g id=\"text_4\">\n      <!-- 7.5 -->\n      <g transform=\"translate(177.55391 254.356562)scale(0.1 -0.1)\">\n       <defs>\n        <path d=\"M 8.203125 72.90625 \nL 55.078125 72.90625 \nL 55.078125 68.703125 \nL 28.609375 0 \nL 18.3125 0 \nL 43.21875 64.59375 \nL 8.203125 64.59375 \nz\n\" id=\"DejaVuSans-55\"/>\n       </defs>\n       <use xlink:href=\"#DejaVuSans-55\"/>\n       <use x=\"63.623047\" xlink:href=\"#DejaVuSans-46\"/>\n       <use x=\"95.410156\" xlink:href=\"#DejaVuSans-53\"/>\n      </g>\n     </g>\n    </g>\n    <g id=\"xtick_5\">\n     <g id=\"line2d_5\">\n      <g>\n       <use style=\"stroke:#000000;stroke-width:0.8;\" x=\"225.553319\" xlink:href=\"#mc053b58f4f\" y=\"239.758125\"/>\n      </g>\n     </g>\n     <g id=\"text_5\">\n      <!-- 10.0 -->\n      <g transform=\"translate(214.420507 254.356562)scale(0.1 -0.1)\">\n       <defs>\n        <path d=\"M 12.40625 8.296875 \nL 28.515625 8.296875 \nL 28.515625 63.921875 \nL 10.984375 60.40625 \nL 10.984375 69.390625 \nL 28.421875 72.90625 \nL 38.28125 72.90625 \nL 38.28125 8.296875 \nL 54.390625 8.296875 \nL 54.390625 0 \nL 12.40625 0 \nz\n\" id=\"DejaVuSans-49\"/>\n       </defs>\n       <use xlink:href=\"#DejaVuSans-49\"/>\n       <use x=\"63.623047\" xlink:href=\"#DejaVuSans-48\"/>\n       <use x=\"127.246094\" xlink:href=\"#DejaVuSans-46\"/>\n       <use x=\"159.033203\" xlink:href=\"#DejaVuSans-48\"/>\n      </g>\n     </g>\n    </g>\n    <g id=\"xtick_6\">\n     <g id=\"line2d_6\">\n      <g>\n       <use style=\"stroke:#000000;stroke-width:0.8;\" x=\"265.601166\" xlink:href=\"#mc053b58f4f\" y=\"239.758125\"/>\n      </g>\n     </g>\n     <g id=\"text_6\">\n      <!-- 12.5 -->\n      <g transform=\"translate(254.468354 254.356562)scale(0.1 -0.1)\">\n       <use xlink:href=\"#DejaVuSans-49\"/>\n       <use x=\"63.623047\" xlink:href=\"#DejaVuSans-50\"/>\n       <use x=\"127.246094\" xlink:href=\"#DejaVuSans-46\"/>\n       <use x=\"159.033203\" xlink:href=\"#DejaVuSans-53\"/>\n      </g>\n     </g>\n    </g>\n    <g id=\"xtick_7\">\n     <g id=\"line2d_7\">\n      <g>\n       <use style=\"stroke:#000000;stroke-width:0.8;\" x=\"305.649013\" xlink:href=\"#mc053b58f4f\" y=\"239.758125\"/>\n      </g>\n     </g>\n     <g id=\"text_7\">\n      <!-- 15.0 -->\n      <g transform=\"translate(294.516201 254.356562)scale(0.1 -0.1)\">\n       <use xlink:href=\"#DejaVuSans-49\"/>\n       <use x=\"63.623047\" xlink:href=\"#DejaVuSans-53\"/>\n       <use x=\"127.246094\" xlink:href=\"#DejaVuSans-46\"/>\n       <use x=\"159.033203\" xlink:href=\"#DejaVuSans-48\"/>\n      </g>\n     </g>\n    </g>\n    <g id=\"xtick_8\">\n     <g id=\"line2d_8\">\n      <g>\n       <use style=\"stroke:#000000;stroke-width:0.8;\" x=\"345.69686\" xlink:href=\"#mc053b58f4f\" y=\"239.758125\"/>\n      </g>\n     </g>\n     <g id=\"text_8\">\n      <!-- 17.5 -->\n      <g transform=\"translate(334.564048 254.356562)scale(0.1 -0.1)\">\n       <use xlink:href=\"#DejaVuSans-49\"/>\n       <use x=\"63.623047\" xlink:href=\"#DejaVuSans-55\"/>\n       <use x=\"127.246094\" xlink:href=\"#DejaVuSans-46\"/>\n       <use x=\"159.033203\" xlink:href=\"#DejaVuSans-53\"/>\n      </g>\n     </g>\n    </g>\n    <g id=\"text_9\">\n     <!-- Time (financial days) -->\n     <g transform=\"translate(165.285938 268.034687)scale(0.1 -0.1)\">\n      <defs>\n       <path d=\"M -0.296875 72.90625 \nL 61.375 72.90625 \nL 61.375 64.59375 \nL 35.5 64.59375 \nL 35.5 0 \nL 25.59375 0 \nL 25.59375 64.59375 \nL -0.296875 64.59375 \nz\n\" id=\"DejaVuSans-84\"/>\n       <path d=\"M 9.421875 54.6875 \nL 18.40625 54.6875 \nL 18.40625 0 \nL 9.421875 0 \nz\nM 9.421875 75.984375 \nL 18.40625 75.984375 \nL 18.40625 64.59375 \nL 9.421875 64.59375 \nz\n\" id=\"DejaVuSans-105\"/>\n       <path d=\"M 52 44.1875 \nQ 55.375 50.25 60.0625 53.125 \nQ 64.75 56 71.09375 56 \nQ 79.640625 56 84.28125 50.015625 \nQ 88.921875 44.046875 88.921875 33.015625 \nL 88.921875 0 \nL 79.890625 0 \nL 79.890625 32.71875 \nQ 79.890625 40.578125 77.09375 44.375 \nQ 74.3125 48.1875 68.609375 48.1875 \nQ 61.625 48.1875 57.5625 43.546875 \nQ 53.515625 38.921875 53.515625 30.90625 \nL 53.515625 0 \nL 44.484375 0 \nL 44.484375 32.71875 \nQ 44.484375 40.625 41.703125 44.40625 \nQ 38.921875 48.1875 33.109375 48.1875 \nQ 26.21875 48.1875 22.15625 43.53125 \nQ 18.109375 38.875 18.109375 30.90625 \nL 18.109375 0 \nL 9.078125 0 \nL 9.078125 54.6875 \nL 18.109375 54.6875 \nL 18.109375 46.1875 \nQ 21.1875 51.21875 25.484375 53.609375 \nQ 29.78125 56 35.6875 56 \nQ 41.65625 56 45.828125 52.96875 \nQ 50 49.953125 52 44.1875 \nz\n\" id=\"DejaVuSans-109\"/>\n       <path d=\"M 56.203125 29.59375 \nL 56.203125 25.203125 \nL 14.890625 25.203125 \nQ 15.484375 15.921875 20.484375 11.0625 \nQ 25.484375 6.203125 34.421875 6.203125 \nQ 39.59375 6.203125 44.453125 7.46875 \nQ 49.3125 8.734375 54.109375 11.28125 \nL 54.109375 2.78125 \nQ 49.265625 0.734375 44.1875 -0.34375 \nQ 39.109375 -1.421875 33.890625 -1.421875 \nQ 20.796875 -1.421875 13.15625 6.1875 \nQ 5.515625 13.8125 5.515625 26.8125 \nQ 5.515625 40.234375 12.765625 48.109375 \nQ 20.015625 56 32.328125 56 \nQ 43.359375 56 49.78125 48.890625 \nQ 56.203125 41.796875 56.203125 29.59375 \nz\nM 47.21875 32.234375 \nQ 47.125 39.59375 43.09375 43.984375 \nQ 39.0625 48.390625 32.421875 48.390625 \nQ 24.90625 48.390625 20.390625 44.140625 \nQ 15.875 39.890625 15.1875 32.171875 \nz\n\" id=\"DejaVuSans-101\"/>\n       <path id=\"DejaVuSans-32\"/>\n       <path d=\"M 31 75.875 \nQ 24.46875 64.65625 21.28125 53.65625 \nQ 18.109375 42.671875 18.109375 31.390625 \nQ 18.109375 20.125 21.3125 9.0625 \nQ 24.515625 -2 31 -13.1875 \nL 23.1875 -13.1875 \nQ 15.875 -1.703125 12.234375 9.375 \nQ 8.59375 20.453125 8.59375 31.390625 \nQ 8.59375 42.28125 12.203125 53.3125 \nQ 15.828125 64.359375 23.1875 75.875 \nz\n\" id=\"DejaVuSans-40\"/>\n       <path d=\"M 37.109375 75.984375 \nL 37.109375 68.5 \nL 28.515625 68.5 \nQ 23.6875 68.5 21.796875 66.546875 \nQ 19.921875 64.59375 19.921875 59.515625 \nL 19.921875 54.6875 \nL 34.71875 54.6875 \nL 34.71875 47.703125 \nL 19.921875 47.703125 \nL 19.921875 0 \nL 10.890625 0 \nL 10.890625 47.703125 \nL 2.296875 47.703125 \nL 2.296875 54.6875 \nL 10.890625 54.6875 \nL 10.890625 58.5 \nQ 10.890625 67.625 15.140625 71.796875 \nQ 19.390625 75.984375 28.609375 75.984375 \nz\n\" id=\"DejaVuSans-102\"/>\n       <path d=\"M 54.890625 33.015625 \nL 54.890625 0 \nL 45.90625 0 \nL 45.90625 32.71875 \nQ 45.90625 40.484375 42.875 44.328125 \nQ 39.84375 48.1875 33.796875 48.1875 \nQ 26.515625 48.1875 22.3125 43.546875 \nQ 18.109375 38.921875 18.109375 30.90625 \nL 18.109375 0 \nL 9.078125 0 \nL 9.078125 54.6875 \nL 18.109375 54.6875 \nL 18.109375 46.1875 \nQ 21.34375 51.125 25.703125 53.5625 \nQ 30.078125 56 35.796875 56 \nQ 45.21875 56 50.046875 50.171875 \nQ 54.890625 44.34375 54.890625 33.015625 \nz\n\" id=\"DejaVuSans-110\"/>\n       <path d=\"M 34.28125 27.484375 \nQ 23.390625 27.484375 19.1875 25 \nQ 14.984375 22.515625 14.984375 16.5 \nQ 14.984375 11.71875 18.140625 8.90625 \nQ 21.296875 6.109375 26.703125 6.109375 \nQ 34.1875 6.109375 38.703125 11.40625 \nQ 43.21875 16.703125 43.21875 25.484375 \nL 43.21875 27.484375 \nz\nM 52.203125 31.203125 \nL 52.203125 0 \nL 43.21875 0 \nL 43.21875 8.296875 \nQ 40.140625 3.328125 35.546875 0.953125 \nQ 30.953125 -1.421875 24.3125 -1.421875 \nQ 15.921875 -1.421875 10.953125 3.296875 \nQ 6 8.015625 6 15.921875 \nQ 6 25.140625 12.171875 29.828125 \nQ 18.359375 34.515625 30.609375 34.515625 \nL 43.21875 34.515625 \nL 43.21875 35.40625 \nQ 43.21875 41.609375 39.140625 45 \nQ 35.0625 48.390625 27.6875 48.390625 \nQ 23 48.390625 18.546875 47.265625 \nQ 14.109375 46.140625 10.015625 43.890625 \nL 10.015625 52.203125 \nQ 14.9375 54.109375 19.578125 55.046875 \nQ 24.21875 56 28.609375 56 \nQ 40.484375 56 46.34375 49.84375 \nQ 52.203125 43.703125 52.203125 31.203125 \nz\n\" id=\"DejaVuSans-97\"/>\n       <path d=\"M 48.78125 52.59375 \nL 48.78125 44.1875 \nQ 44.96875 46.296875 41.140625 47.34375 \nQ 37.3125 48.390625 33.40625 48.390625 \nQ 24.65625 48.390625 19.8125 42.84375 \nQ 14.984375 37.3125 14.984375 27.296875 \nQ 14.984375 17.28125 19.8125 11.734375 \nQ 24.65625 6.203125 33.40625 6.203125 \nQ 37.3125 6.203125 41.140625 7.25 \nQ 44.96875 8.296875 48.78125 10.40625 \nL 48.78125 2.09375 \nQ 45.015625 0.34375 40.984375 -0.53125 \nQ 36.96875 -1.421875 32.421875 -1.421875 \nQ 20.0625 -1.421875 12.78125 6.34375 \nQ 5.515625 14.109375 5.515625 27.296875 \nQ 5.515625 40.671875 12.859375 48.328125 \nQ 20.21875 56 33.015625 56 \nQ 37.15625 56 41.109375 55.140625 \nQ 45.0625 54.296875 48.78125 52.59375 \nz\n\" id=\"DejaVuSans-99\"/>\n       <path d=\"M 9.421875 75.984375 \nL 18.40625 75.984375 \nL 18.40625 0 \nL 9.421875 0 \nz\n\" id=\"DejaVuSans-108\"/>\n       <path d=\"M 45.40625 46.390625 \nL 45.40625 75.984375 \nL 54.390625 75.984375 \nL 54.390625 0 \nL 45.40625 0 \nL 45.40625 8.203125 \nQ 42.578125 3.328125 38.25 0.953125 \nQ 33.9375 -1.421875 27.875 -1.421875 \nQ 17.96875 -1.421875 11.734375 6.484375 \nQ 5.515625 14.40625 5.515625 27.296875 \nQ 5.515625 40.1875 11.734375 48.09375 \nQ 17.96875 56 27.875 56 \nQ 33.9375 56 38.25 53.625 \nQ 42.578125 51.265625 45.40625 46.390625 \nz\nM 14.796875 27.296875 \nQ 14.796875 17.390625 18.875 11.75 \nQ 22.953125 6.109375 30.078125 6.109375 \nQ 37.203125 6.109375 41.296875 11.75 \nQ 45.40625 17.390625 45.40625 27.296875 \nQ 45.40625 37.203125 41.296875 42.84375 \nQ 37.203125 48.484375 30.078125 48.484375 \nQ 22.953125 48.484375 18.875 42.84375 \nQ 14.796875 37.203125 14.796875 27.296875 \nz\n\" id=\"DejaVuSans-100\"/>\n       <path d=\"M 32.171875 -5.078125 \nQ 28.375 -14.84375 24.75 -17.8125 \nQ 21.140625 -20.796875 15.09375 -20.796875 \nL 7.90625 -20.796875 \nL 7.90625 -13.28125 \nL 13.1875 -13.28125 \nQ 16.890625 -13.28125 18.9375 -11.515625 \nQ 21 -9.765625 23.484375 -3.21875 \nL 25.09375 0.875 \nL 2.984375 54.6875 \nL 12.5 54.6875 \nL 29.59375 11.921875 \nL 46.6875 54.6875 \nL 56.203125 54.6875 \nz\n\" id=\"DejaVuSans-121\"/>\n       <path d=\"M 44.28125 53.078125 \nL 44.28125 44.578125 \nQ 40.484375 46.53125 36.375 47.5 \nQ 32.28125 48.484375 27.875 48.484375 \nQ 21.1875 48.484375 17.84375 46.4375 \nQ 14.5 44.390625 14.5 40.28125 \nQ 14.5 37.15625 16.890625 35.375 \nQ 19.28125 33.59375 26.515625 31.984375 \nL 29.59375 31.296875 \nQ 39.15625 29.25 43.1875 25.515625 \nQ 47.21875 21.78125 47.21875 15.09375 \nQ 47.21875 7.46875 41.1875 3.015625 \nQ 35.15625 -1.421875 24.609375 -1.421875 \nQ 20.21875 -1.421875 15.453125 -0.5625 \nQ 10.6875 0.296875 5.421875 2 \nL 5.421875 11.28125 \nQ 10.40625 8.6875 15.234375 7.390625 \nQ 20.0625 6.109375 24.8125 6.109375 \nQ 31.15625 6.109375 34.5625 8.28125 \nQ 37.984375 10.453125 37.984375 14.40625 \nQ 37.984375 18.0625 35.515625 20.015625 \nQ 33.0625 21.96875 24.703125 23.78125 \nL 21.578125 24.515625 \nQ 13.234375 26.265625 9.515625 29.90625 \nQ 5.8125 33.546875 5.8125 39.890625 \nQ 5.8125 47.609375 11.28125 51.796875 \nQ 16.75 56 26.8125 56 \nQ 31.78125 56 36.171875 55.265625 \nQ 40.578125 54.546875 44.28125 53.078125 \nz\n\" id=\"DejaVuSans-115\"/>\n       <path d=\"M 8.015625 75.875 \nL 15.828125 75.875 \nQ 23.140625 64.359375 26.78125 53.3125 \nQ 30.421875 42.28125 30.421875 31.390625 \nQ 30.421875 20.453125 26.78125 9.375 \nQ 23.140625 -1.703125 15.828125 -13.1875 \nL 8.015625 -13.1875 \nQ 14.5 -2 17.703125 9.0625 \nQ 20.90625 20.125 20.90625 31.390625 \nQ 20.90625 42.671875 17.703125 53.65625 \nQ 14.5 64.65625 8.015625 75.875 \nz\n\" id=\"DejaVuSans-41\"/>\n      </defs>\n      <use xlink:href=\"#DejaVuSans-84\"/>\n      <use x=\"57.958984\" xlink:href=\"#DejaVuSans-105\"/>\n      <use x=\"85.742188\" xlink:href=\"#DejaVuSans-109\"/>\n      <use x=\"183.154297\" xlink:href=\"#DejaVuSans-101\"/>\n      <use x=\"244.677734\" xlink:href=\"#DejaVuSans-32\"/>\n      <use x=\"276.464844\" xlink:href=\"#DejaVuSans-40\"/>\n      <use x=\"315.478516\" xlink:href=\"#DejaVuSans-102\"/>\n      <use x=\"350.683594\" xlink:href=\"#DejaVuSans-105\"/>\n      <use x=\"378.466797\" xlink:href=\"#DejaVuSans-110\"/>\n      <use x=\"441.845703\" xlink:href=\"#DejaVuSans-97\"/>\n      <use x=\"503.125\" xlink:href=\"#DejaVuSans-110\"/>\n      <use x=\"566.503906\" xlink:href=\"#DejaVuSans-99\"/>\n      <use x=\"621.484375\" xlink:href=\"#DejaVuSans-105\"/>\n      <use x=\"649.267578\" xlink:href=\"#DejaVuSans-97\"/>\n      <use x=\"710.546875\" xlink:href=\"#DejaVuSans-108\"/>\n      <use x=\"738.330078\" xlink:href=\"#DejaVuSans-32\"/>\n      <use x=\"770.117188\" xlink:href=\"#DejaVuSans-100\"/>\n      <use x=\"833.59375\" xlink:href=\"#DejaVuSans-97\"/>\n      <use x=\"894.873047\" xlink:href=\"#DejaVuSans-121\"/>\n      <use x=\"954.052734\" xlink:href=\"#DejaVuSans-115\"/>\n      <use x=\"1006.152344\" xlink:href=\"#DejaVuSans-41\"/>\n     </g>\n    </g>\n   </g>\n   <g id=\"matplotlib.axis_2\">\n    <g id=\"ytick_1\">\n     <g id=\"line2d_9\">\n      <defs>\n       <path d=\"M 0 0 \nL -3.5 0 \n\" id=\"m10822fbeb8\" style=\"stroke:#000000;stroke-width:0.8;\"/>\n      </defs>\n      <g>\n       <use style=\"stroke:#000000;stroke-width:0.8;\" x=\"50.14375\" xlink:href=\"#m10822fbeb8\" y=\"213.103729\"/>\n      </g>\n     </g>\n     <g id=\"text_10\">\n      <!-- 45.0 -->\n      <g transform=\"translate(20.878125 216.902948)scale(0.1 -0.1)\">\n       <defs>\n        <path d=\"M 37.796875 64.3125 \nL 12.890625 25.390625 \nL 37.796875 25.390625 \nz\nM 35.203125 72.90625 \nL 47.609375 72.90625 \nL 47.609375 25.390625 \nL 58.015625 25.390625 \nL 58.015625 17.1875 \nL 47.609375 17.1875 \nL 47.609375 0 \nL 37.796875 0 \nL 37.796875 17.1875 \nL 4.890625 17.1875 \nL 4.890625 26.703125 \nz\n\" id=\"DejaVuSans-52\"/>\n       </defs>\n       <use xlink:href=\"#DejaVuSans-52\"/>\n       <use x=\"63.623047\" xlink:href=\"#DejaVuSans-53\"/>\n       <use x=\"127.246094\" xlink:href=\"#DejaVuSans-46\"/>\n       <use x=\"159.033203\" xlink:href=\"#DejaVuSans-48\"/>\n      </g>\n     </g>\n    </g>\n    <g id=\"ytick_2\">\n     <g id=\"line2d_10\">\n      <g>\n       <use style=\"stroke:#000000;stroke-width:0.8;\" x=\"50.14375\" xlink:href=\"#m10822fbeb8\" y=\"182.046768\"/>\n      </g>\n     </g>\n     <g id=\"text_11\">\n      <!-- 45.5 -->\n      <g transform=\"translate(20.878125 185.845986)scale(0.1 -0.1)\">\n       <use xlink:href=\"#DejaVuSans-52\"/>\n       <use x=\"63.623047\" xlink:href=\"#DejaVuSans-53\"/>\n       <use x=\"127.246094\" xlink:href=\"#DejaVuSans-46\"/>\n       <use x=\"159.033203\" xlink:href=\"#DejaVuSans-53\"/>\n      </g>\n     </g>\n    </g>\n    <g id=\"ytick_3\">\n     <g id=\"line2d_11\">\n      <g>\n       <use style=\"stroke:#000000;stroke-width:0.8;\" x=\"50.14375\" xlink:href=\"#m10822fbeb8\" y=\"150.989806\"/>\n      </g>\n     </g>\n     <g id=\"text_12\">\n      <!-- 46.0 -->\n      <g transform=\"translate(20.878125 154.789025)scale(0.1 -0.1)\">\n       <defs>\n        <path d=\"M 33.015625 40.375 \nQ 26.375 40.375 22.484375 35.828125 \nQ 18.609375 31.296875 18.609375 23.390625 \nQ 18.609375 15.53125 22.484375 10.953125 \nQ 26.375 6.390625 33.015625 6.390625 \nQ 39.65625 6.390625 43.53125 10.953125 \nQ 47.40625 15.53125 47.40625 23.390625 \nQ 47.40625 31.296875 43.53125 35.828125 \nQ 39.65625 40.375 33.015625 40.375 \nz\nM 52.59375 71.296875 \nL 52.59375 62.3125 \nQ 48.875 64.0625 45.09375 64.984375 \nQ 41.3125 65.921875 37.59375 65.921875 \nQ 27.828125 65.921875 22.671875 59.328125 \nQ 17.53125 52.734375 16.796875 39.40625 \nQ 19.671875 43.65625 24.015625 45.921875 \nQ 28.375 48.1875 33.59375 48.1875 \nQ 44.578125 48.1875 50.953125 41.515625 \nQ 57.328125 34.859375 57.328125 23.390625 \nQ 57.328125 12.15625 50.6875 5.359375 \nQ 44.046875 -1.421875 33.015625 -1.421875 \nQ 20.359375 -1.421875 13.671875 8.265625 \nQ 6.984375 17.96875 6.984375 36.375 \nQ 6.984375 53.65625 15.1875 63.9375 \nQ 23.390625 74.21875 37.203125 74.21875 \nQ 40.921875 74.21875 44.703125 73.484375 \nQ 48.484375 72.75 52.59375 71.296875 \nz\n\" id=\"DejaVuSans-54\"/>\n       </defs>\n       <use xlink:href=\"#DejaVuSans-52\"/>\n       <use x=\"63.623047\" xlink:href=\"#DejaVuSans-54\"/>\n       <use x=\"127.246094\" xlink:href=\"#DejaVuSans-46\"/>\n       <use x=\"159.033203\" xlink:href=\"#DejaVuSans-48\"/>\n      </g>\n     </g>\n    </g>\n    <g id=\"ytick_4\">\n     <g id=\"line2d_12\">\n      <g>\n       <use style=\"stroke:#000000;stroke-width:0.8;\" x=\"50.14375\" xlink:href=\"#m10822fbeb8\" y=\"119.932844\"/>\n      </g>\n     </g>\n     <g id=\"text_13\">\n      <!-- 46.5 -->\n      <g transform=\"translate(20.878125 123.732063)scale(0.1 -0.1)\">\n       <use xlink:href=\"#DejaVuSans-52\"/>\n       <use x=\"63.623047\" xlink:href=\"#DejaVuSans-54\"/>\n       <use x=\"127.246094\" xlink:href=\"#DejaVuSans-46\"/>\n       <use x=\"159.033203\" xlink:href=\"#DejaVuSans-53\"/>\n      </g>\n     </g>\n    </g>\n    <g id=\"ytick_5\">\n     <g id=\"line2d_13\">\n      <g>\n       <use style=\"stroke:#000000;stroke-width:0.8;\" x=\"50.14375\" xlink:href=\"#m10822fbeb8\" y=\"88.875883\"/>\n      </g>\n     </g>\n     <g id=\"text_14\">\n      <!-- 47.0 -->\n      <g transform=\"translate(20.878125 92.675101)scale(0.1 -0.1)\">\n       <use xlink:href=\"#DejaVuSans-52\"/>\n       <use x=\"63.623047\" xlink:href=\"#DejaVuSans-55\"/>\n       <use x=\"127.246094\" xlink:href=\"#DejaVuSans-46\"/>\n       <use x=\"159.033203\" xlink:href=\"#DejaVuSans-48\"/>\n      </g>\n     </g>\n    </g>\n    <g id=\"ytick_6\">\n     <g id=\"line2d_14\">\n      <g>\n       <use style=\"stroke:#000000;stroke-width:0.8;\" x=\"50.14375\" xlink:href=\"#m10822fbeb8\" y=\"57.818921\"/>\n      </g>\n     </g>\n     <g id=\"text_15\">\n      <!-- 47.5 -->\n      <g transform=\"translate(20.878125 61.61814)scale(0.1 -0.1)\">\n       <use xlink:href=\"#DejaVuSans-52\"/>\n       <use x=\"63.623047\" xlink:href=\"#DejaVuSans-55\"/>\n       <use x=\"127.246094\" xlink:href=\"#DejaVuSans-46\"/>\n       <use x=\"159.033203\" xlink:href=\"#DejaVuSans-53\"/>\n      </g>\n     </g>\n    </g>\n    <g id=\"ytick_7\">\n     <g id=\"line2d_15\">\n      <g>\n       <use style=\"stroke:#000000;stroke-width:0.8;\" x=\"50.14375\" xlink:href=\"#m10822fbeb8\" y=\"26.761959\"/>\n      </g>\n     </g>\n     <g id=\"text_16\">\n      <!-- 48.0 -->\n      <g transform=\"translate(20.878125 30.561178)scale(0.1 -0.1)\">\n       <defs>\n        <path d=\"M 31.78125 34.625 \nQ 24.75 34.625 20.71875 30.859375 \nQ 16.703125 27.09375 16.703125 20.515625 \nQ 16.703125 13.921875 20.71875 10.15625 \nQ 24.75 6.390625 31.78125 6.390625 \nQ 38.8125 6.390625 42.859375 10.171875 \nQ 46.921875 13.96875 46.921875 20.515625 \nQ 46.921875 27.09375 42.890625 30.859375 \nQ 38.875 34.625 31.78125 34.625 \nz\nM 21.921875 38.8125 \nQ 15.578125 40.375 12.03125 44.71875 \nQ 8.5 49.078125 8.5 55.328125 \nQ 8.5 64.0625 14.71875 69.140625 \nQ 20.953125 74.21875 31.78125 74.21875 \nQ 42.671875 74.21875 48.875 69.140625 \nQ 55.078125 64.0625 55.078125 55.328125 \nQ 55.078125 49.078125 51.53125 44.71875 \nQ 48 40.375 41.703125 38.8125 \nQ 48.828125 37.15625 52.796875 32.3125 \nQ 56.78125 27.484375 56.78125 20.515625 \nQ 56.78125 9.90625 50.3125 4.234375 \nQ 43.84375 -1.421875 31.78125 -1.421875 \nQ 19.734375 -1.421875 13.25 4.234375 \nQ 6.78125 9.90625 6.78125 20.515625 \nQ 6.78125 27.484375 10.78125 32.3125 \nQ 14.796875 37.15625 21.921875 38.8125 \nz\nM 18.3125 54.390625 \nQ 18.3125 48.734375 21.84375 45.5625 \nQ 25.390625 42.390625 31.78125 42.390625 \nQ 38.140625 42.390625 41.71875 45.5625 \nQ 45.3125 48.734375 45.3125 54.390625 \nQ 45.3125 60.0625 41.71875 63.234375 \nQ 38.140625 66.40625 31.78125 66.40625 \nQ 25.390625 66.40625 21.84375 63.234375 \nQ 18.3125 60.0625 18.3125 54.390625 \nz\n\" id=\"DejaVuSans-56\"/>\n       </defs>\n       <use xlink:href=\"#DejaVuSans-52\"/>\n       <use x=\"63.623047\" xlink:href=\"#DejaVuSans-56\"/>\n       <use x=\"127.246094\" xlink:href=\"#DejaVuSans-46\"/>\n       <use x=\"159.033203\" xlink:href=\"#DejaVuSans-48\"/>\n      </g>\n     </g>\n    </g>\n    <g id=\"text_17\">\n     <!-- Stock Price -->\n     <g transform=\"translate(14.798438 158.663125)rotate(-90)scale(0.1 -0.1)\">\n      <defs>\n       <path d=\"M 53.515625 70.515625 \nL 53.515625 60.890625 \nQ 47.90625 63.578125 42.921875 64.890625 \nQ 37.9375 66.21875 33.296875 66.21875 \nQ 25.25 66.21875 20.875 63.09375 \nQ 16.5 59.96875 16.5 54.203125 \nQ 16.5 49.359375 19.40625 46.890625 \nQ 22.3125 44.4375 30.421875 42.921875 \nL 36.375 41.703125 \nQ 47.40625 39.59375 52.65625 34.296875 \nQ 57.90625 29 57.90625 20.125 \nQ 57.90625 9.515625 50.796875 4.046875 \nQ 43.703125 -1.421875 29.984375 -1.421875 \nQ 24.8125 -1.421875 18.96875 -0.25 \nQ 13.140625 0.921875 6.890625 3.21875 \nL 6.890625 13.375 \nQ 12.890625 10.015625 18.65625 8.296875 \nQ 24.421875 6.59375 29.984375 6.59375 \nQ 38.421875 6.59375 43.015625 9.90625 \nQ 47.609375 13.234375 47.609375 19.390625 \nQ 47.609375 24.75 44.3125 27.78125 \nQ 41.015625 30.8125 33.5 32.328125 \nL 27.484375 33.5 \nQ 16.453125 35.6875 11.515625 40.375 \nQ 6.59375 45.0625 6.59375 53.421875 \nQ 6.59375 63.09375 13.40625 68.65625 \nQ 20.21875 74.21875 32.171875 74.21875 \nQ 37.3125 74.21875 42.625 73.28125 \nQ 47.953125 72.359375 53.515625 70.515625 \nz\n\" id=\"DejaVuSans-83\"/>\n       <path d=\"M 18.3125 70.21875 \nL 18.3125 54.6875 \nL 36.8125 54.6875 \nL 36.8125 47.703125 \nL 18.3125 47.703125 \nL 18.3125 18.015625 \nQ 18.3125 11.328125 20.140625 9.421875 \nQ 21.96875 7.515625 27.59375 7.515625 \nL 36.8125 7.515625 \nL 36.8125 0 \nL 27.59375 0 \nQ 17.1875 0 13.234375 3.875 \nQ 9.28125 7.765625 9.28125 18.015625 \nL 9.28125 47.703125 \nL 2.6875 47.703125 \nL 2.6875 54.6875 \nL 9.28125 54.6875 \nL 9.28125 70.21875 \nz\n\" id=\"DejaVuSans-116\"/>\n       <path d=\"M 30.609375 48.390625 \nQ 23.390625 48.390625 19.1875 42.75 \nQ 14.984375 37.109375 14.984375 27.296875 \nQ 14.984375 17.484375 19.15625 11.84375 \nQ 23.34375 6.203125 30.609375 6.203125 \nQ 37.796875 6.203125 41.984375 11.859375 \nQ 46.1875 17.53125 46.1875 27.296875 \nQ 46.1875 37.015625 41.984375 42.703125 \nQ 37.796875 48.390625 30.609375 48.390625 \nz\nM 30.609375 56 \nQ 42.328125 56 49.015625 48.375 \nQ 55.71875 40.765625 55.71875 27.296875 \nQ 55.71875 13.875 49.015625 6.21875 \nQ 42.328125 -1.421875 30.609375 -1.421875 \nQ 18.84375 -1.421875 12.171875 6.21875 \nQ 5.515625 13.875 5.515625 27.296875 \nQ 5.515625 40.765625 12.171875 48.375 \nQ 18.84375 56 30.609375 56 \nz\n\" id=\"DejaVuSans-111\"/>\n       <path d=\"M 9.078125 75.984375 \nL 18.109375 75.984375 \nL 18.109375 31.109375 \nL 44.921875 54.6875 \nL 56.390625 54.6875 \nL 27.390625 29.109375 \nL 57.625 0 \nL 45.90625 0 \nL 18.109375 26.703125 \nL 18.109375 0 \nL 9.078125 0 \nz\n\" id=\"DejaVuSans-107\"/>\n       <path d=\"M 19.671875 64.796875 \nL 19.671875 37.40625 \nL 32.078125 37.40625 \nQ 38.96875 37.40625 42.71875 40.96875 \nQ 46.484375 44.53125 46.484375 51.125 \nQ 46.484375 57.671875 42.71875 61.234375 \nQ 38.96875 64.796875 32.078125 64.796875 \nz\nM 9.8125 72.90625 \nL 32.078125 72.90625 \nQ 44.34375 72.90625 50.609375 67.359375 \nQ 56.890625 61.8125 56.890625 51.125 \nQ 56.890625 40.328125 50.609375 34.8125 \nQ 44.34375 29.296875 32.078125 29.296875 \nL 19.671875 29.296875 \nL 19.671875 0 \nL 9.8125 0 \nz\n\" id=\"DejaVuSans-80\"/>\n       <path d=\"M 41.109375 46.296875 \nQ 39.59375 47.171875 37.8125 47.578125 \nQ 36.03125 48 33.890625 48 \nQ 26.265625 48 22.1875 43.046875 \nQ 18.109375 38.09375 18.109375 28.8125 \nL 18.109375 0 \nL 9.078125 0 \nL 9.078125 54.6875 \nL 18.109375 54.6875 \nL 18.109375 46.1875 \nQ 20.953125 51.171875 25.484375 53.578125 \nQ 30.03125 56 36.53125 56 \nQ 37.453125 56 38.578125 55.875 \nQ 39.703125 55.765625 41.0625 55.515625 \nz\n\" id=\"DejaVuSans-114\"/>\n      </defs>\n      <use xlink:href=\"#DejaVuSans-83\"/>\n      <use x=\"63.476562\" xlink:href=\"#DejaVuSans-116\"/>\n      <use x=\"102.685547\" xlink:href=\"#DejaVuSans-111\"/>\n      <use x=\"163.867188\" xlink:href=\"#DejaVuSans-99\"/>\n      <use x=\"218.847656\" xlink:href=\"#DejaVuSans-107\"/>\n      <use x=\"276.757812\" xlink:href=\"#DejaVuSans-32\"/>\n      <use x=\"308.544922\" xlink:href=\"#DejaVuSans-80\"/>\n      <use x=\"367.097656\" xlink:href=\"#DejaVuSans-114\"/>\n      <use x=\"408.210938\" xlink:href=\"#DejaVuSans-105\"/>\n      <use x=\"435.994141\" xlink:href=\"#DejaVuSans-99\"/>\n      <use x=\"490.974609\" xlink:href=\"#DejaVuSans-101\"/>\n     </g>\n    </g>\n   </g>\n   <g id=\"line2d_16\">\n    <path clip-path=\"url(#p2040c0dcd7)\" d=\"M 65.361932 215.588348 \nL 81.381071 229.874489 \nL 97.400209 206.271136 \nL 113.419348 141.672593 \nL 129.438487 179.562149 \nL 145.457626 111.236957 \nL 161.476764 188.258036 \nL 177.495903 157.201074 \nL 193.515042 142.914934 \nL 209.534181 213.724744 \nL 225.553319 148.505187 \nL 241.572458 166.518287 \nL 257.591597 178.941134 \nL 273.610736 218.072967 \nL 289.629874 172.10854 \nL 305.649013 183.289046 \nL 321.668152 132.976706 \nL 337.687291 87.012527 \nL 353.706429 66.514808 \nL 369.725568 62.788159 \n\" style=\"fill:none;stroke:#ff0000;stroke-linecap:square;stroke-width:1.5;\"/>\n   </g>\n   <g id=\"line2d_17\">\n    <path clip-path=\"url(#p2040c0dcd7)\" d=\"M 65.361932 200.970445 \nL 81.381071 184.00702 \nL 97.400209 167.019664 \nL 113.419348 154.038114 \nL 129.438487 120.427824 \nL 145.457626 109.529028 \nL 161.476764 84.817475 \nL 177.495903 95.882133 \nL 193.515042 103.485962 \nL 209.534181 93.95837 \nL 225.553319 112.709788 \nL 241.572458 108.219191 \nL 257.591597 100.073942 \nL 273.610736 103.908199 \nL 289.629874 129.491238 \nL 305.649013 133.184987 \nL 321.668152 128.875653 \nL 337.687291 105.509479 \nL 353.706429 65.878633 \nL 369.725568 32.201761 \n\" style=\"fill:none;stroke:#0000ff;stroke-linecap:square;stroke-width:1.5;\"/>\n   </g>\n   <g id=\"patch_3\">\n    <path d=\"M 50.14375 239.758125 \nL 50.14375 22.318125 \n\" style=\"fill:none;stroke:#000000;stroke-linecap:square;stroke-linejoin:miter;stroke-width:0.8;\"/>\n   </g>\n   <g id=\"patch_4\">\n    <path d=\"M 384.94375 239.758125 \nL 384.94375 22.318125 \n\" style=\"fill:none;stroke:#000000;stroke-linecap:square;stroke-linejoin:miter;stroke-width:0.8;\"/>\n   </g>\n   <g id=\"patch_5\">\n    <path d=\"M 50.14375 239.758125 \nL 384.94375 239.758125 \n\" style=\"fill:none;stroke:#000000;stroke-linecap:square;stroke-linejoin:miter;stroke-width:0.8;\"/>\n   </g>\n   <g id=\"patch_6\">\n    <path d=\"M 50.14375 22.318125 \nL 384.94375 22.318125 \n\" style=\"fill:none;stroke:#000000;stroke-linecap:square;stroke-linejoin:miter;stroke-width:0.8;\"/>\n   </g>\n   <g id=\"text_18\">\n    <!-- Stock Price Prediction (November 2020) -->\n    <g transform=\"translate(97.702188 16.318125)scale(0.12 -0.12)\">\n     <defs>\n      <path d=\"M 9.8125 72.90625 \nL 23.09375 72.90625 \nL 55.421875 11.921875 \nL 55.421875 72.90625 \nL 64.984375 72.90625 \nL 64.984375 0 \nL 51.703125 0 \nL 19.390625 60.984375 \nL 19.390625 0 \nL 9.8125 0 \nz\n\" id=\"DejaVuSans-78\"/>\n      <path d=\"M 2.984375 54.6875 \nL 12.5 54.6875 \nL 29.59375 8.796875 \nL 46.6875 54.6875 \nL 56.203125 54.6875 \nL 35.6875 0 \nL 23.484375 0 \nz\n\" id=\"DejaVuSans-118\"/>\n      <path d=\"M 48.6875 27.296875 \nQ 48.6875 37.203125 44.609375 42.84375 \nQ 40.53125 48.484375 33.40625 48.484375 \nQ 26.265625 48.484375 22.1875 42.84375 \nQ 18.109375 37.203125 18.109375 27.296875 \nQ 18.109375 17.390625 22.1875 11.75 \nQ 26.265625 6.109375 33.40625 6.109375 \nQ 40.53125 6.109375 44.609375 11.75 \nQ 48.6875 17.390625 48.6875 27.296875 \nz\nM 18.109375 46.390625 \nQ 20.953125 51.265625 25.265625 53.625 \nQ 29.59375 56 35.59375 56 \nQ 45.5625 56 51.78125 48.09375 \nQ 58.015625 40.1875 58.015625 27.296875 \nQ 58.015625 14.40625 51.78125 6.484375 \nQ 45.5625 -1.421875 35.59375 -1.421875 \nQ 29.59375 -1.421875 25.265625 0.953125 \nQ 20.953125 3.328125 18.109375 8.203125 \nL 18.109375 0 \nL 9.078125 0 \nL 9.078125 75.984375 \nL 18.109375 75.984375 \nz\n\" id=\"DejaVuSans-98\"/>\n     </defs>\n     <use xlink:href=\"#DejaVuSans-83\"/>\n     <use x=\"63.476562\" xlink:href=\"#DejaVuSans-116\"/>\n     <use x=\"102.685547\" xlink:href=\"#DejaVuSans-111\"/>\n     <use x=\"163.867188\" xlink:href=\"#DejaVuSans-99\"/>\n     <use x=\"218.847656\" xlink:href=\"#DejaVuSans-107\"/>\n     <use x=\"276.757812\" xlink:href=\"#DejaVuSans-32\"/>\n     <use x=\"308.544922\" xlink:href=\"#DejaVuSans-80\"/>\n     <use x=\"367.097656\" xlink:href=\"#DejaVuSans-114\"/>\n     <use x=\"408.210938\" xlink:href=\"#DejaVuSans-105\"/>\n     <use x=\"435.994141\" xlink:href=\"#DejaVuSans-99\"/>\n     <use x=\"490.974609\" xlink:href=\"#DejaVuSans-101\"/>\n     <use x=\"552.498047\" xlink:href=\"#DejaVuSans-32\"/>\n     <use x=\"584.285156\" xlink:href=\"#DejaVuSans-80\"/>\n     <use x=\"642.837891\" xlink:href=\"#DejaVuSans-114\"/>\n     <use x=\"681.701172\" xlink:href=\"#DejaVuSans-101\"/>\n     <use x=\"743.224609\" xlink:href=\"#DejaVuSans-100\"/>\n     <use x=\"806.701172\" xlink:href=\"#DejaVuSans-105\"/>\n     <use x=\"834.484375\" xlink:href=\"#DejaVuSans-99\"/>\n     <use x=\"889.464844\" xlink:href=\"#DejaVuSans-116\"/>\n     <use x=\"928.673828\" xlink:href=\"#DejaVuSans-105\"/>\n     <use x=\"956.457031\" xlink:href=\"#DejaVuSans-111\"/>\n     <use x=\"1017.638672\" xlink:href=\"#DejaVuSans-110\"/>\n     <use x=\"1081.017578\" xlink:href=\"#DejaVuSans-32\"/>\n     <use x=\"1112.804688\" xlink:href=\"#DejaVuSans-40\"/>\n     <use x=\"1151.818359\" xlink:href=\"#DejaVuSans-78\"/>\n     <use x=\"1226.623047\" xlink:href=\"#DejaVuSans-111\"/>\n     <use x=\"1287.804688\" xlink:href=\"#DejaVuSans-118\"/>\n     <use x=\"1346.984375\" xlink:href=\"#DejaVuSans-101\"/>\n     <use x=\"1408.507812\" xlink:href=\"#DejaVuSans-109\"/>\n     <use x=\"1505.919922\" xlink:href=\"#DejaVuSans-98\"/>\n     <use x=\"1569.396484\" xlink:href=\"#DejaVuSans-101\"/>\n     <use x=\"1630.919922\" xlink:href=\"#DejaVuSans-114\"/>\n     <use x=\"1672.033203\" xlink:href=\"#DejaVuSans-32\"/>\n     <use x=\"1703.820312\" xlink:href=\"#DejaVuSans-50\"/>\n     <use x=\"1767.443359\" xlink:href=\"#DejaVuSans-48\"/>\n     <use x=\"1831.066406\" xlink:href=\"#DejaVuSans-50\"/>\n     <use x=\"1894.689453\" xlink:href=\"#DejaVuSans-48\"/>\n     <use x=\"1958.3125\" xlink:href=\"#DejaVuSans-41\"/>\n    </g>\n   </g>\n   <g id=\"legend_1\">\n    <g id=\"patch_7\">\n     <path d=\"M 57.14375 59.674375 \nL 219.829688 59.674375 \nQ 221.829688 59.674375 221.829688 57.674375 \nL 221.829688 29.318125 \nQ 221.829688 27.318125 219.829688 27.318125 \nL 57.14375 27.318125 \nQ 55.14375 27.318125 55.14375 29.318125 \nL 55.14375 57.674375 \nQ 55.14375 59.674375 57.14375 59.674375 \nz\n\" style=\"fill:#ffffff;opacity:0.8;stroke:#cccccc;stroke-linejoin:miter;\"/>\n    </g>\n    <g id=\"line2d_18\">\n     <path d=\"M 59.14375 35.416562 \nL 79.14375 35.416562 \n\" style=\"fill:none;stroke:#ff0000;stroke-linecap:square;stroke-width:1.5;\"/>\n    </g>\n    <g id=\"line2d_19\"/>\n    <g id=\"text_19\">\n     <!-- Actual Intel Stock Price -->\n     <g transform=\"translate(87.14375 38.916562)scale(0.1 -0.1)\">\n      <defs>\n       <path d=\"M 34.1875 63.1875 \nL 20.796875 26.90625 \nL 47.609375 26.90625 \nz\nM 28.609375 72.90625 \nL 39.796875 72.90625 \nL 67.578125 0 \nL 57.328125 0 \nL 50.6875 18.703125 \nL 17.828125 18.703125 \nL 11.1875 0 \nL 0.78125 0 \nz\n\" id=\"DejaVuSans-65\"/>\n       <path d=\"M 8.5 21.578125 \nL 8.5 54.6875 \nL 17.484375 54.6875 \nL 17.484375 21.921875 \nQ 17.484375 14.15625 20.5 10.265625 \nQ 23.53125 6.390625 29.59375 6.390625 \nQ 36.859375 6.390625 41.078125 11.03125 \nQ 45.3125 15.671875 45.3125 23.6875 \nL 45.3125 54.6875 \nL 54.296875 54.6875 \nL 54.296875 0 \nL 45.3125 0 \nL 45.3125 8.40625 \nQ 42.046875 3.421875 37.71875 1 \nQ 33.40625 -1.421875 27.6875 -1.421875 \nQ 18.265625 -1.421875 13.375 4.4375 \nQ 8.5 10.296875 8.5 21.578125 \nz\nM 31.109375 56 \nz\n\" id=\"DejaVuSans-117\"/>\n       <path d=\"M 9.8125 72.90625 \nL 19.671875 72.90625 \nL 19.671875 0 \nL 9.8125 0 \nz\n\" id=\"DejaVuSans-73\"/>\n      </defs>\n      <use xlink:href=\"#DejaVuSans-65\"/>\n      <use x=\"66.658203\" xlink:href=\"#DejaVuSans-99\"/>\n      <use x=\"121.638672\" xlink:href=\"#DejaVuSans-116\"/>\n      <use x=\"160.847656\" xlink:href=\"#DejaVuSans-117\"/>\n      <use x=\"224.226562\" xlink:href=\"#DejaVuSans-97\"/>\n      <use x=\"285.505859\" xlink:href=\"#DejaVuSans-108\"/>\n      <use x=\"313.289062\" xlink:href=\"#DejaVuSans-32\"/>\n      <use x=\"345.076172\" xlink:href=\"#DejaVuSans-73\"/>\n      <use x=\"374.568359\" xlink:href=\"#DejaVuSans-110\"/>\n      <use x=\"437.947266\" xlink:href=\"#DejaVuSans-116\"/>\n      <use x=\"477.15625\" xlink:href=\"#DejaVuSans-101\"/>\n      <use x=\"538.679688\" xlink:href=\"#DejaVuSans-108\"/>\n      <use x=\"566.462891\" xlink:href=\"#DejaVuSans-32\"/>\n      <use x=\"598.25\" xlink:href=\"#DejaVuSans-83\"/>\n      <use x=\"661.726562\" xlink:href=\"#DejaVuSans-116\"/>\n      <use x=\"700.935547\" xlink:href=\"#DejaVuSans-111\"/>\n      <use x=\"762.117188\" xlink:href=\"#DejaVuSans-99\"/>\n      <use x=\"817.097656\" xlink:href=\"#DejaVuSans-107\"/>\n      <use x=\"875.007812\" xlink:href=\"#DejaVuSans-32\"/>\n      <use x=\"906.794922\" xlink:href=\"#DejaVuSans-80\"/>\n      <use x=\"965.347656\" xlink:href=\"#DejaVuSans-114\"/>\n      <use x=\"1006.460938\" xlink:href=\"#DejaVuSans-105\"/>\n      <use x=\"1034.244141\" xlink:href=\"#DejaVuSans-99\"/>\n      <use x=\"1089.224609\" xlink:href=\"#DejaVuSans-101\"/>\n     </g>\n    </g>\n    <g id=\"line2d_20\">\n     <path d=\"M 59.14375 50.094687 \nL 79.14375 50.094687 \n\" style=\"fill:none;stroke:#0000ff;stroke-linecap:square;stroke-width:1.5;\"/>\n    </g>\n    <g id=\"line2d_21\"/>\n    <g id=\"text_20\">\n     <!-- Predicted Intel Stock Price -->\n     <g transform=\"translate(87.14375 53.594687)scale(0.1 -0.1)\">\n      <use xlink:href=\"#DejaVuSans-80\"/>\n      <use x=\"58.552734\" xlink:href=\"#DejaVuSans-114\"/>\n      <use x=\"97.416016\" xlink:href=\"#DejaVuSans-101\"/>\n      <use x=\"158.939453\" xlink:href=\"#DejaVuSans-100\"/>\n      <use x=\"222.416016\" xlink:href=\"#DejaVuSans-105\"/>\n      <use x=\"250.199219\" xlink:href=\"#DejaVuSans-99\"/>\n      <use x=\"305.179688\" xlink:href=\"#DejaVuSans-116\"/>\n      <use x=\"344.388672\" xlink:href=\"#DejaVuSans-101\"/>\n      <use x=\"405.912109\" xlink:href=\"#DejaVuSans-100\"/>\n      <use x=\"469.388672\" xlink:href=\"#DejaVuSans-32\"/>\n      <use x=\"501.175781\" xlink:href=\"#DejaVuSans-73\"/>\n      <use x=\"530.667969\" xlink:href=\"#DejaVuSans-110\"/>\n      <use x=\"594.046875\" xlink:href=\"#DejaVuSans-116\"/>\n      <use x=\"633.255859\" xlink:href=\"#DejaVuSans-101\"/>\n      <use x=\"694.779297\" xlink:href=\"#DejaVuSans-108\"/>\n      <use x=\"722.5625\" xlink:href=\"#DejaVuSans-32\"/>\n      <use x=\"754.349609\" xlink:href=\"#DejaVuSans-83\"/>\n      <use x=\"817.826172\" xlink:href=\"#DejaVuSans-116\"/>\n      <use x=\"857.035156\" xlink:href=\"#DejaVuSans-111\"/>\n      <use x=\"918.216797\" xlink:href=\"#DejaVuSans-99\"/>\n      <use x=\"973.197266\" xlink:href=\"#DejaVuSans-107\"/>\n      <use x=\"1031.107422\" xlink:href=\"#DejaVuSans-32\"/>\n      <use x=\"1062.894531\" xlink:href=\"#DejaVuSans-80\"/>\n      <use x=\"1121.447266\" xlink:href=\"#DejaVuSans-114\"/>\n      <use x=\"1162.560547\" xlink:href=\"#DejaVuSans-105\"/>\n      <use x=\"1190.34375\" xlink:href=\"#DejaVuSans-99\"/>\n      <use x=\"1245.324219\" xlink:href=\"#DejaVuSans-101\"/>\n     </g>\n    </g>\n   </g>\n  </g>\n </g>\n <defs>\n  <clipPath id=\"p2040c0dcd7\">\n   <rect height=\"217.44\" width=\"334.8\" x=\"50.14375\" y=\"22.318125\"/>\n  </clipPath>\n </defs>\n</svg>\n",
      "image/png": "[encoded data removed]"
     },
     "metadata": {
      "needs_background": "light"
     }
    },
    {
     "output_type": "stream",
     "name": "stdout",
     "text": [
      "Last prediction: 47.9\nLast real price: 47.4\n"
     ]
    }
   ],
   "source": [
    "# adding data to the plot\n",
    "plt.plot(real_stock_price, color = 'red', label = 'Actual Intel Stock Price')\n",
    "plt.plot(predicted_stock_price, color = 'blue', label = 'Predicted Intel Stock Price')\n",
    "\n",
    "plt.title('Stock Price Prediction (November 2020)')\n",
    "plt.xlabel('Time (financial days)')\n",
    "plt.ylabel('Stock Price')\n",
    "plt.legend() # to display legends\n",
    "\n",
    "plt.show()\n",
    "\n",
    "last_real_price = real_stock_price[-1][0]\n",
    "last_predicted_price = predicted_stock_price[-1][0]\n",
    "\n",
    "print (f\"Last prediction: {last_predicted_price:4.1f}\\nLast real price: {last_real_price:4.1f}\")\n",
    "# The Actual stock price is the period that belond to the test set which values were exculded from the training.\n",
    "\n",
    "# The predicted stock price is the attempt at guessing the stock price of the following day based on the results from previous prices."
   ]
  },
  {
   "cell_type": "code",
   "execution_count": null,
   "metadata": {},
   "outputs": [],
   "source": []
  }
 ]
}