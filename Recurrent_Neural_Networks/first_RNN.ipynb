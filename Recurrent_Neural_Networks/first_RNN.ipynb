{
 "metadata": {
  "language_info": {
   "codemirror_mode": {
    "name": "ipython",
    "version": 3
   },
   "file_extension": ".py",
   "mimetype": "text/x-python",
   "name": "python",
   "nbconvert_exporter": "python",
   "pygments_lexer": "ipython3",
   "version": "3.8.6-final"
  },
  "orig_nbformat": 2,
  "kernelspec": {
   "name": "Python 3.8.6 64-bit ('deepLearning')",
   "display_name": "Python 3.8.6 64-bit ('deepLearning')",
   "metadata": {
    "interpreter": {
     "hash": "fabda35dea35b80cd6431b98e91ddb3db65b956456306a434410485951fd57f1"
    }
   }
  }
 },
 "nbformat": 4,
 "nbformat_minor": 2,
 "cells": [
  {
   "source": [
    "# Data Preprocessing\n",
    "### import libraries"
   ],
   "cell_type": "markdown",
   "metadata": {}
  },
  {
   "cell_type": "code",
   "execution_count": 1,
   "metadata": {},
   "outputs": [],
   "source": [
    "import sys, os\n",
    "import numpy as np #only numpy arrays can be the input of keras\n",
    "import pandas as pd\n",
    "import matplotlib.pyplot as plt"
   ]
  },
  {
   "source": [
    "### Train set"
   ],
   "cell_type": "markdown",
   "metadata": {}
  },
  {
   "cell_type": "code",
   "execution_count": 2,
   "metadata": {},
   "outputs": [],
   "source": [
    "dataset_train = pd.read_csv('Google_Stock_Price_Train.csv')\n",
    "\n",
    "#'training_set = dataset_train.iloc[:, 1].values' would only give us a 1D array\n",
    "training_set = dataset_train.iloc[:, 1:2].values #gives us one column for open prices"
   ]
  },
  {
   "source": [
    "### Feature scaling with Normalization: (X-min)/(max-min)"
   ],
   "cell_type": "markdown",
   "metadata": {}
  },
  {
   "cell_type": "code",
   "execution_count": 3,
   "metadata": {},
   "outputs": [],
   "source": [
    "from sklearn.preprocessing import MinMaxScaler\n",
    "sc = MinMaxScaler(feature_range=(0, 1))\n",
    "training_set_scaled = sc.fit_transform(training_set) # it is recommended to keep the original set separate"
   ]
  },
  {
   "source": [
    "### Creating a data structure with n timesteps and 1 output"
   ],
   "cell_type": "markdown",
   "metadata": {}
  },
  {
   "cell_type": "code",
   "execution_count": 4,
   "metadata": {},
   "outputs": [],
   "source": [
    "n_timesteps = 60 # number of timesteps\n",
    "\n",
    "X_train = [] # will contain lists of previous stock prices\n",
    "y_train = [] # will contain the next stock price\n",
    "\n",
    "\n",
    "# start at 'n_timesteps' so that the first element actually has n previous prices\n",
    "for i in range(n_timesteps, training_set_scaled.shape[0]):\n",
    "    X_train.append(training_set_scaled[i-n_timesteps:i, 0]) # adds a list of n previous prices\n",
    "    y_train.append(training_set_scaled[i, 0]) # adds the current price\n",
    "\n",
    "X_train, y_train = np.array(X_train), np.array(y_train)"
   ]
  },
  {
   "source": [
    "### Reshaping to add more indicators"
   ],
   "cell_type": "markdown",
   "metadata": {}
  },
  {
   "cell_type": "code",
   "execution_count": 5,
   "metadata": {},
   "outputs": [],
   "source": [
    "X_train = np.reshape(X_train, (X_train.shape[0], X_train.shape[1], 1))\n",
    "#for RNNs, the dimensions are (batch_size, timesteps, number of indicators). Here the only indicator is open price"
   ]
  },
  {
   "source": [
    "# Building the RNN\n",
    "### import libraries"
   ],
   "cell_type": "markdown",
   "metadata": {}
  },
  {
   "cell_type": "code",
   "execution_count": 6,
   "metadata": {},
   "outputs": [],
   "source": [
    "from keras.models import Sequential\n",
    "from keras.layers import Dense\n",
    "from keras.layers import LSTM\n",
    "from keras.layers import Dropout # to prevent overfiting"
   ]
  },
  {
   "source": [
    "### Initialising the RNN"
   ],
   "cell_type": "markdown",
   "metadata": {}
  },
  {
   "cell_type": "code",
   "execution_count": 7,
   "metadata": {},
   "outputs": [],
   "source": [
    "regressor = Sequential() #the RNN\n",
    "#Tip: A classifier predicts categories. A regressor predicts a continuous value."
   ]
  },
  {
   "source": [
    "### Adding the first LSTM layer and some Dropout regularisation"
   ],
   "cell_type": "markdown",
   "metadata": {}
  },
  {
   "cell_type": "code",
   "execution_count": 8,
   "metadata": {},
   "outputs": [],
   "source": [
    "regressor.add(LSTM( units = 50, return_sequences= True, input_shape = (X_train.shape[1], 1)))\n",
    "# units : neurons\n",
    "# return_sequences: set to True if you are going to add more LSTM layers\n",
    "#input_shape: only include the 2 last ones of X_train. The first is already included\n",
    "\n",
    "regressor.add(Dropout(.2))\n",
    "#to prevent overfitting during regression, drop a part of the neurons during each iteration\n",
    "#using a rate\n"
   ]
  },
  {
   "cell_type": "code",
   "execution_count": null,
   "metadata": {},
   "outputs": [],
   "source": []
  }
 ]
}